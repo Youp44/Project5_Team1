{
 "cells": [
  {
   "cell_type": "code",
   "execution_count": 2,
   "metadata": {},
   "outputs": [],
   "source": [
    "import pandas as pd \n",
    "import scipy.stats as sp\n",
    "import numpy as np "
   ]
  },
  {
   "cell_type": "code",
   "execution_count": 3,
   "metadata": {},
   "outputs": [],
   "source": [
    "df_planning =pd.read_excel('omloopplanning.xlsx')\n",
    "df = pd.read_excel('Connexxion data - 2024-2025.xlsx')\n",
    "df_tijden = pd.read_excel('Connexxion data - 2024-2025 - kopie.xlsx')\n"
   ]
  },
  {
   "cell_type": "markdown",
   "metadata": {},
   "source": [
    "Check beginttijd > Eindtijd\n",
    "Hier zou je via streamlit een output van kunnen maken dat hij dit weer geeft. Dan zouden we alleen nog wat moeten verzinnen op het feit voor twaalf begonnen en na twaalf terug."
   ]
  },
  {
   "cell_type": "code",
   "execution_count": 4,
   "metadata": {},
   "outputs": [
    {
     "data": {
      "text/html": [
       "<div>\n",
       "<style scoped>\n",
       "    .dataframe tbody tr th:only-of-type {\n",
       "        vertical-align: middle;\n",
       "    }\n",
       "\n",
       "    .dataframe tbody tr th {\n",
       "        vertical-align: top;\n",
       "    }\n",
       "\n",
       "    .dataframe thead th {\n",
       "        text-align: right;\n",
       "    }\n",
       "</style>\n",
       "<table border=\"1\" class=\"dataframe\">\n",
       "  <thead>\n",
       "    <tr style=\"text-align: right;\">\n",
       "      <th></th>\n",
       "      <th>Unnamed: 0</th>\n",
       "      <th>startlocatie</th>\n",
       "      <th>eindlocatie</th>\n",
       "      <th>starttijd</th>\n",
       "      <th>eindtijd</th>\n",
       "      <th>activiteit</th>\n",
       "      <th>buslijn</th>\n",
       "      <th>energieverbruik</th>\n",
       "      <th>starttijd datum</th>\n",
       "      <th>eindtijd datum</th>\n",
       "      <th>omloop nummer</th>\n",
       "    </tr>\n",
       "  </thead>\n",
       "  <tbody>\n",
       "    <tr>\n",
       "      <th>59</th>\n",
       "      <td>59</td>\n",
       "      <td>ehvbst</td>\n",
       "      <td>ehvapt</td>\n",
       "      <td>1900-01-01 23:37:00</td>\n",
       "      <td>1900-01-01 00:01:00</td>\n",
       "      <td>dienst rit</td>\n",
       "      <td>401.0</td>\n",
       "      <td>10.8036</td>\n",
       "      <td>2024-08-29 23:37:00</td>\n",
       "      <td>2024-08-30 00:01:00</td>\n",
       "      <td>1</td>\n",
       "    </tr>\n",
       "    <tr>\n",
       "      <th>122</th>\n",
       "      <td>122</td>\n",
       "      <td>ehvapt</td>\n",
       "      <td>ehvbst</td>\n",
       "      <td>1900-01-01 23:35:00</td>\n",
       "      <td>1900-01-01 00:00:00</td>\n",
       "      <td>dienst rit</td>\n",
       "      <td>401.0</td>\n",
       "      <td>10.8600</td>\n",
       "      <td>2024-08-29 23:35:00</td>\n",
       "      <td>2024-08-30 00:00:00</td>\n",
       "      <td>2</td>\n",
       "    </tr>\n",
       "  </tbody>\n",
       "</table>\n",
       "</div>"
      ],
      "text/plain": [
       "     Unnamed: 0 startlocatie eindlocatie           starttijd  \\\n",
       "59           59       ehvbst      ehvapt 1900-01-01 23:37:00   \n",
       "122         122       ehvapt      ehvbst 1900-01-01 23:35:00   \n",
       "\n",
       "               eindtijd  activiteit  buslijn  energieverbruik  \\\n",
       "59  1900-01-01 00:01:00  dienst rit    401.0          10.8036   \n",
       "122 1900-01-01 00:00:00  dienst rit    401.0          10.8600   \n",
       "\n",
       "        starttijd datum      eindtijd datum  omloop nummer  \n",
       "59  2024-08-29 23:37:00 2024-08-30 00:01:00              1  \n",
       "122 2024-08-29 23:35:00 2024-08-30 00:00:00              2  "
      ]
     },
     "execution_count": 4,
     "metadata": {},
     "output_type": "execute_result"
    }
   ],
   "source": [
    "df_planning['starttijd'] = pd.to_datetime(df_planning['starttijd'], format='%H:%M:%S')\n",
    "df_planning['eindtijd'] = pd.to_datetime(df_planning['eindtijd'], format='%H:%M:%S')\n",
    "check = df_planning[df_planning['starttijd']> df_planning['eindtijd']]\n",
    "altijd_correct = check.all()\n",
    "check\n",
    "\n"
   ]
  },
  {
   "cell_type": "markdown",
   "metadata": {},
   "source": [
    "Check of tussen de min en max tijd ligt"
   ]
  },
  {
   "cell_type": "code",
   "execution_count": 5,
   "metadata": {},
   "outputs": [
    {
     "name": "stdout",
     "output_type": "stream",
     "text": [
      "Er zijn reistijden die buiten het correcte bereik vallen (zonder 'dienst rit' en 'materiaal rit').\n"
     ]
    }
   ],
   "source": [
    "df_tijden['min_reistijd_in_min'] = pd.to_timedelta(df_tijden['min reistijd in min'], unit='m')\n",
    "df_tijden['max_reistijd_in_min'] = pd.to_timedelta(df_tijden['max reistijd in min'], unit='m')\n",
    "\n",
    "# Stap 2: Merge df_planning en df_tijden op basis van een gemeenschappelijke kolom, zoals 'reis_id'\n",
    "df_merged = pd.merge(df_planning, df_tijden, on='buslijn')\n",
    "\n",
    "# Stap 3: Bereken het tijdsverschil tussen eindtijd en begintijd in minuten\n",
    "df_merged['verschil_in_min'] = (df_merged['eindtijd'] - df_merged['starttijd']).dt.total_seconds() / 60\n",
    "\n",
    "# Stap 4: Controleer of het verschil in minuten tussen de minimale en maximale reistijd ligt\n",
    "df_merged['correct'] = (df_merged['verschil_in_min'] >= df_merged['min_reistijd_in_min'].dt.total_seconds() / 60) & \\\n",
    "                       (df_merged['verschil_in_min'] <= df_merged['max_reistijd_in_min'].dt.total_seconds() / 60)\n",
    "\n",
    "# Filter de rijen waar de activiteit niet gelijk is aan 'dienst rit' of 'materiaal rit'\n",
    "df_merged_filtered = df_merged[~df_merged['activiteit'].isin(['dienst rit', 'materiaal rit','opladen'])]\n",
    "\n",
    "# Controleer of alle overgebleven rijen correct zijn\n",
    "altijd_correct = df_merged_filtered['correct'].all()\n",
    "\n",
    "df_fouten = df_merged[\n",
    "    (df_merged['correct'] == False) & \n",
    "    (~df_merged['activiteit'].isin(['dienst rit', 'materiaal rit', 'dle','opladen']))\n",
    "]\n",
    "\n",
    "# Resultaat weergeven\n",
    "if altijd_correct:\n",
    "    print(\"Alle reistijden zijn binnen het correcte bereik (zonder dienst rit, materiaal rit, idle en opladen).\")\n",
    "else:\n",
    "    print(\"Er zijn reistijden die buiten het correcte bereik vallen (zonder 'dienst rit' en 'materiaal rit').\")\n",
    "    df_fouten\n",
    "\n",
    " \n",
    "\n",
    "\n",
    "\n"
   ]
  },
  {
   "cell_type": "code",
   "execution_count": 6,
   "metadata": {},
   "outputs": [
    {
     "ename": "KeyError",
     "evalue": "'begintijd'",
     "output_type": "error",
     "traceback": [
      "\u001b[1;31m---------------------------------------------------------------------------\u001b[0m",
      "\u001b[1;31mKeyError\u001b[0m                                  Traceback (most recent call last)",
      "File \u001b[1;32mc:\\ProgramData\\anaconda3\\Lib\\site-packages\\pandas\\core\\indexes\\base.py:3802\u001b[0m, in \u001b[0;36mIndex.get_loc\u001b[1;34m(self, key, method, tolerance)\u001b[0m\n\u001b[0;32m   3801\u001b[0m \u001b[38;5;28;01mtry\u001b[39;00m:\n\u001b[1;32m-> 3802\u001b[0m     \u001b[38;5;28;01mreturn\u001b[39;00m \u001b[38;5;28mself\u001b[39m\u001b[38;5;241m.\u001b[39m_engine\u001b[38;5;241m.\u001b[39mget_loc(casted_key)\n\u001b[0;32m   3803\u001b[0m \u001b[38;5;28;01mexcept\u001b[39;00m \u001b[38;5;167;01mKeyError\u001b[39;00m \u001b[38;5;28;01mas\u001b[39;00m err:\n",
      "File \u001b[1;32mc:\\ProgramData\\anaconda3\\Lib\\site-packages\\pandas\\_libs\\index.pyx:138\u001b[0m, in \u001b[0;36mpandas._libs.index.IndexEngine.get_loc\u001b[1;34m()\u001b[0m\n",
      "File \u001b[1;32mc:\\ProgramData\\anaconda3\\Lib\\site-packages\\pandas\\_libs\\index.pyx:165\u001b[0m, in \u001b[0;36mpandas._libs.index.IndexEngine.get_loc\u001b[1;34m()\u001b[0m\n",
      "File \u001b[1;32mpandas\\_libs\\hashtable_class_helper.pxi:5745\u001b[0m, in \u001b[0;36mpandas._libs.hashtable.PyObjectHashTable.get_item\u001b[1;34m()\u001b[0m\n",
      "File \u001b[1;32mpandas\\_libs\\hashtable_class_helper.pxi:5753\u001b[0m, in \u001b[0;36mpandas._libs.hashtable.PyObjectHashTable.get_item\u001b[1;34m()\u001b[0m\n",
      "\u001b[1;31mKeyError\u001b[0m: 'begintijd'",
      "\nThe above exception was the direct cause of the following exception:\n",
      "\u001b[1;31mKeyError\u001b[0m                                  Traceback (most recent call last)",
      "Cell \u001b[1;32mIn[6], line 3\u001b[0m\n\u001b[0;32m      1\u001b[0m min_tijd \u001b[38;5;241m=\u001b[39m pd\u001b[38;5;241m.\u001b[39mto_datetime(df_tijden[\u001b[38;5;124m\"\u001b[39m\u001b[38;5;124mmin reistijd in min\u001b[39m\u001b[38;5;124m\"\u001b[39m], \u001b[38;5;28mformat\u001b[39m \u001b[38;5;241m=\u001b[39m \u001b[38;5;124m\"\u001b[39m\u001b[38;5;124m%\u001b[39m\u001b[38;5;124mM\u001b[39m\u001b[38;5;124m\"\u001b[39m)\n\u001b[0;32m      2\u001b[0m max_tijd \u001b[38;5;241m=\u001b[39m pd\u001b[38;5;241m.\u001b[39mto_datetime(df_tijden[\u001b[38;5;124m\"\u001b[39m\u001b[38;5;124mmax reistijd in min\u001b[39m\u001b[38;5;124m\"\u001b[39m], \u001b[38;5;28mformat\u001b[39m \u001b[38;5;241m=\u001b[39m \u001b[38;5;124m\"\u001b[39m\u001b[38;5;124m%\u001b[39m\u001b[38;5;124mM\u001b[39m\u001b[38;5;124m\"\u001b[39m)\n\u001b[1;32m----> 3\u001b[0m df_planning[\u001b[38;5;124m\"\u001b[39m\u001b[38;5;124meindtijd\u001b[39m\u001b[38;5;124m\"\u001b[39m]\u001b[38;5;241m-\u001b[39mdf_planning[\u001b[38;5;124m\"\u001b[39m\u001b[38;5;124mbegintijd\u001b[39m\u001b[38;5;124m\"\u001b[39m]\n\u001b[0;32m      4\u001b[0m check \u001b[38;5;241m=\u001b[39m df_planning[df_planning[\u001b[38;5;124m'\u001b[39m\u001b[38;5;124mstarttijd\u001b[39m\u001b[38;5;124m'\u001b[39m]\u001b[38;5;241m>\u001b[39m df_planning[\u001b[38;5;124m'\u001b[39m\u001b[38;5;124meindtijd\u001b[39m\u001b[38;5;124m'\u001b[39m]]\n\u001b[0;32m      5\u001b[0m altijd_correct \u001b[38;5;241m=\u001b[39m check\u001b[38;5;241m.\u001b[39mall()\n",
      "File \u001b[1;32mc:\\ProgramData\\anaconda3\\Lib\\site-packages\\pandas\\core\\frame.py:3807\u001b[0m, in \u001b[0;36mDataFrame.__getitem__\u001b[1;34m(self, key)\u001b[0m\n\u001b[0;32m   3805\u001b[0m \u001b[38;5;28;01mif\u001b[39;00m \u001b[38;5;28mself\u001b[39m\u001b[38;5;241m.\u001b[39mcolumns\u001b[38;5;241m.\u001b[39mnlevels \u001b[38;5;241m>\u001b[39m \u001b[38;5;241m1\u001b[39m:\n\u001b[0;32m   3806\u001b[0m     \u001b[38;5;28;01mreturn\u001b[39;00m \u001b[38;5;28mself\u001b[39m\u001b[38;5;241m.\u001b[39m_getitem_multilevel(key)\n\u001b[1;32m-> 3807\u001b[0m indexer \u001b[38;5;241m=\u001b[39m \u001b[38;5;28mself\u001b[39m\u001b[38;5;241m.\u001b[39mcolumns\u001b[38;5;241m.\u001b[39mget_loc(key)\n\u001b[0;32m   3808\u001b[0m \u001b[38;5;28;01mif\u001b[39;00m is_integer(indexer):\n\u001b[0;32m   3809\u001b[0m     indexer \u001b[38;5;241m=\u001b[39m [indexer]\n",
      "File \u001b[1;32mc:\\ProgramData\\anaconda3\\Lib\\site-packages\\pandas\\core\\indexes\\base.py:3804\u001b[0m, in \u001b[0;36mIndex.get_loc\u001b[1;34m(self, key, method, tolerance)\u001b[0m\n\u001b[0;32m   3802\u001b[0m     \u001b[38;5;28;01mreturn\u001b[39;00m \u001b[38;5;28mself\u001b[39m\u001b[38;5;241m.\u001b[39m_engine\u001b[38;5;241m.\u001b[39mget_loc(casted_key)\n\u001b[0;32m   3803\u001b[0m \u001b[38;5;28;01mexcept\u001b[39;00m \u001b[38;5;167;01mKeyError\u001b[39;00m \u001b[38;5;28;01mas\u001b[39;00m err:\n\u001b[1;32m-> 3804\u001b[0m     \u001b[38;5;28;01mraise\u001b[39;00m \u001b[38;5;167;01mKeyError\u001b[39;00m(key) \u001b[38;5;28;01mfrom\u001b[39;00m \u001b[38;5;21;01merr\u001b[39;00m\n\u001b[0;32m   3805\u001b[0m \u001b[38;5;28;01mexcept\u001b[39;00m \u001b[38;5;167;01mTypeError\u001b[39;00m:\n\u001b[0;32m   3806\u001b[0m     \u001b[38;5;66;03m# If we have a listlike key, _check_indexing_error will raise\u001b[39;00m\n\u001b[0;32m   3807\u001b[0m     \u001b[38;5;66;03m#  InvalidIndexError. Otherwise we fall through and re-raise\u001b[39;00m\n\u001b[0;32m   3808\u001b[0m     \u001b[38;5;66;03m#  the TypeError.\u001b[39;00m\n\u001b[0;32m   3809\u001b[0m     \u001b[38;5;28mself\u001b[39m\u001b[38;5;241m.\u001b[39m_check_indexing_error(key)\n",
      "\u001b[1;31mKeyError\u001b[0m: 'begintijd'"
     ]
    }
   ],
   "source": [
    "min_tijd = pd.to_datetime(df_tijden[\"min reistijd in min\"], format = \"%M\")\n",
    "max_tijd = pd.to_datetime(df_tijden[\"max reistijd in min\"], format = \"%M\")\n",
    "df_planning[\"eindtijd\"]-df_planning[\"begintijd\"]\n",
    "check = df_planning[df_planning['starttijd']> df_planning['eindtijd']]\n",
    "altijd_correct = check.all()\n",
    "check = df_planning"
   ]
  },
  {
   "cell_type": "markdown",
   "metadata": {},
   "source": [
    "Bus per omloop energieverbruik boven 364.5\n"
   ]
  },
  {
   "cell_type": "code",
   "execution_count": 7,
   "metadata": {},
   "outputs": [],
   "source": [
    "# hier loop van maken voor elke omloop nummer = i en dan i elke data set etc\n",
    "# maak extra lijst per omloopsplanning dit checken en dat toevoegen in dict \n",
    "df8  = df_planning[df_planning['omloop nummer'] ==8]\n",
    "\n",
    "df8 = df8.sort_values(by='starttijd')\n",
    "\n",
    "poepkont = df8['energieverbruik']\n",
    "\n",
    "k = []\n",
    "for i in poepkont:\n",
    "    k.append(i)\n",
    "    b = sum(k)\n",
    "    if b >= 364.5:\n",
    "        print(f\" {b} loser\")\n",
    "        "
   ]
  },
  {
   "cell_type": "markdown",
   "metadata": {},
   "source": [
    "De maximale energieverbruik is 364.5 voordat ze bij de garage moeten zijn. Hier onder is een overzicht van hoeveel energie een bus maximaal heeft verbruikt voordat hij is gaan opladen. "
   ]
  },
  {
   "cell_type": "code",
   "execution_count": 15,
   "metadata": {},
   "outputs": [
    {
     "data": {
      "text/html": [
       "<div>\n",
       "<style scoped>\n",
       "    .dataframe tbody tr th:only-of-type {\n",
       "        vertical-align: middle;\n",
       "    }\n",
       "\n",
       "    .dataframe tbody tr th {\n",
       "        vertical-align: top;\n",
       "    }\n",
       "\n",
       "    .dataframe thead th {\n",
       "        text-align: right;\n",
       "    }\n",
       "</style>\n",
       "<table border=\"1\" class=\"dataframe\">\n",
       "  <thead>\n",
       "    <tr style=\"text-align: right;\">\n",
       "      <th></th>\n",
       "      <th>0</th>\n",
       "      <th>1</th>\n",
       "    </tr>\n",
       "  </thead>\n",
       "  <tbody>\n",
       "    <tr>\n",
       "      <th>0</th>\n",
       "      <td>1</td>\n",
       "      <td>253.3368</td>\n",
       "    </tr>\n",
       "    <tr>\n",
       "      <th>1</th>\n",
       "      <td>2</td>\n",
       "      <td>263.6468</td>\n",
       "    </tr>\n",
       "    <tr>\n",
       "      <th>2</th>\n",
       "      <td>3</td>\n",
       "      <td>264.1364</td>\n",
       "    </tr>\n",
       "    <tr>\n",
       "      <th>3</th>\n",
       "      <td>4</td>\n",
       "      <td>242.5328</td>\n",
       "    </tr>\n",
       "    <tr>\n",
       "      <th>4</th>\n",
       "      <td>5</td>\n",
       "      <td>240.9904</td>\n",
       "    </tr>\n",
       "    <tr>\n",
       "      <th>5</th>\n",
       "      <td>6</td>\n",
       "      <td>232.6996</td>\n",
       "    </tr>\n",
       "    <tr>\n",
       "      <th>6</th>\n",
       "      <td>7</td>\n",
       "      <td>232.6996</td>\n",
       "    </tr>\n",
       "    <tr>\n",
       "      <th>7</th>\n",
       "      <td>8</td>\n",
       "      <td>235.3904</td>\n",
       "    </tr>\n",
       "    <tr>\n",
       "      <th>8</th>\n",
       "      <td>9</td>\n",
       "      <td>236.2248</td>\n",
       "    </tr>\n",
       "    <tr>\n",
       "      <th>9</th>\n",
       "      <td>10</td>\n",
       "      <td>236.7284</td>\n",
       "    </tr>\n",
       "    <tr>\n",
       "      <th>10</th>\n",
       "      <td>11</td>\n",
       "      <td>221.1860</td>\n",
       "    </tr>\n",
       "    <tr>\n",
       "      <th>11</th>\n",
       "      <td>12</td>\n",
       "      <td>238.8196</td>\n",
       "    </tr>\n",
       "    <tr>\n",
       "      <th>12</th>\n",
       "      <td>13</td>\n",
       "      <td>171.4488</td>\n",
       "    </tr>\n",
       "    <tr>\n",
       "      <th>13</th>\n",
       "      <td>14</td>\n",
       "      <td>194.6184</td>\n",
       "    </tr>\n",
       "    <tr>\n",
       "      <th>14</th>\n",
       "      <td>15</td>\n",
       "      <td>185.7708</td>\n",
       "    </tr>\n",
       "    <tr>\n",
       "      <th>15</th>\n",
       "      <td>16</td>\n",
       "      <td>234.1560</td>\n",
       "    </tr>\n",
       "    <tr>\n",
       "      <th>16</th>\n",
       "      <td>17</td>\n",
       "      <td>187.8168</td>\n",
       "    </tr>\n",
       "    <tr>\n",
       "      <th>17</th>\n",
       "      <td>18</td>\n",
       "      <td>141.4776</td>\n",
       "    </tr>\n",
       "    <tr>\n",
       "      <th>18</th>\n",
       "      <td>19</td>\n",
       "      <td>141.4776</td>\n",
       "    </tr>\n",
       "    <tr>\n",
       "      <th>19</th>\n",
       "      <td>20</td>\n",
       "      <td>25.6296</td>\n",
       "    </tr>\n",
       "  </tbody>\n",
       "</table>\n",
       "</div>"
      ],
      "text/plain": [
       "     0         1\n",
       "0    1  253.3368\n",
       "1    2  263.6468\n",
       "2    3  264.1364\n",
       "3    4  242.5328\n",
       "4    5  240.9904\n",
       "5    6  232.6996\n",
       "6    7  232.6996\n",
       "7    8  235.3904\n",
       "8    9  236.2248\n",
       "9   10  236.7284\n",
       "10  11  221.1860\n",
       "11  12  238.8196\n",
       "12  13  171.4488\n",
       "13  14  194.6184\n",
       "14  15  185.7708\n",
       "15  16  234.1560\n",
       "16  17  187.8168\n",
       "17  18  141.4776\n",
       "18  19  141.4776\n",
       "19  20   25.6296"
      ]
     },
     "execution_count": 15,
     "metadata": {},
     "output_type": "execute_result"
    }
   ],
   "source": [
    "max_b_per_omloop = {}\n",
    "\n",
    "# Loop over alle unieke omloop nummers in de DataFrame\n",
    "for omloop_nummer in df_planning['omloop nummer'].unique():\n",
    "    # Filteren op huidige omloop nummer\n",
    "    df_omloop = df_planning[df_planning['omloop nummer'] == omloop_nummer]\n",
    "    \n",
    "    # Sorteren op 'starttijd'\n",
    "    df_omloop = df_omloop.sort_values(by='starttijd')\n",
    "    \n",
    "    # Lijst van energieverbruik per omloop nummer\n",
    "    energieverbruik = df_omloop['energieverbruik']\n",
    "     \n",
    "    k = []\n",
    "    max_b = 0\n",
    "    for i in energieverbruik:\n",
    "        k.append(i)\n",
    "        b = sum(k)\n",
    "        \n",
    "        # Update max_b als de nieuwe som van 'b' groter is\n",
    "        if b > max_b:\n",
    "            max_b = b\n",
    "        \n",
    "        # Breek als b >= 364.5, maar we willen nog steeds max_b opslaan\n",
    "        if b >= 364.5:\n",
    "            print(f\"{b} loser voor omloop nummer {omloop_nummer}\")\n",
    "            break\n",
    "\n",
    "    # Opslaan van het maximale b voor de huidige omloop nummer\n",
    "    max_b_per_omloop[omloop_nummer] = max_b\n",
    "\n",
    "# Het resultaat: Dictionary met maximale b per omloop nummer\n",
    "sorted_dict = pd.DataFrame(sorted(max_b_per_omloop.items()))\n",
    "\n",
    "# Geordende dictionary printen\n",
    "sorted_dict"
   ]
  },
  {
   "cell_type": "markdown",
   "metadata": {},
   "source": [
    "Uit de informatie hier boven kunnen we halen dat de omlopen verbeterd kunnen worden en er minder kunnen zijn en hiermee dan kosten zullen besparen. De enige vraag is hoe gaan we de omloop met python aanpassen. Mis eerst handmatig proberen kijken hoe we dit doen en dit in python schrijven. Als je het optimaal wilt doen krijg je waarschijnlijk het probleem dat er geen ondergrens is voor hoeveel bussen waar rijden met combinatie omdat er geen passagiers zijn. Je kan mis wel constraint dat er even vaak langs elk bus station in de huidige volgorde en vertrek tijden gaat zijn. opletten dat de max tijd niet wordt overschreden. Dus eigenlijk de checks hier boven weer uitvoeren"
   ]
  },
  {
   "cell_type": "markdown",
   "metadata": {},
   "source": [
    "omloop vergelijken start en eind tijd ritten, kijken bij elke omloop of niet overeenkomt zodat je tussen kan pakken. en dan verbruik checekb "
   ]
  },
  {
   "cell_type": "code",
   "execution_count": 21,
   "metadata": {},
   "outputs": [
    {
     "ename": "SyntaxError",
     "evalue": "invalid syntax (4066594009.py, line 14)",
     "output_type": "error",
     "traceback": [
      "\u001b[1;36m  Cell \u001b[1;32mIn[21], line 14\u001b[1;36m\u001b[0m\n\u001b[1;33m    for i in\u001b[0m\n\u001b[1;37m            ^\u001b[0m\n\u001b[1;31mSyntaxError\u001b[0m\u001b[1;31m:\u001b[0m invalid syntax\n"
     ]
    }
   ],
   "source": [
    "\n",
    "billen = sorted_dict[1]\n",
    "for index, value in enumerate(billen):\n",
    "    if value < 50:\n",
    "        print(f\"Index: {index+1}, Value: {value}\")\n",
    "vervangbare_omloop = index+1\n",
    "\n",
    "vervangbare_omloop\n",
    "omloop20  = df_planning[df_planning['omloop nummer'] ==vervangbare_omloop]\n",
    "starttijd_omloop20 = min(omloop20['starttijd'])\n",
    "eindtijd_omloop20 = max(omloop20['eindtijd'])\n",
    "alle_starttijden = df_planning['starttijd']\n",
    "alle_eindtijd = df_planning['eindtijd']\n",
    "\n",
    "\n"
   ]
  },
  {
   "cell_type": "code",
   "execution_count": 1,
   "metadata": {},
   "outputs": [
    {
     "ename": "NameError",
     "evalue": "name 'pd' is not defined",
     "output_type": "error",
     "traceback": [
      "\u001b[1;31m---------------------------------------------------------------------------\u001b[0m",
      "\u001b[1;31mNameError\u001b[0m                                 Traceback (most recent call last)",
      "Cell \u001b[1;32mIn[1], line 1\u001b[0m\n\u001b[1;32m----> 1\u001b[0m df_planning[\u001b[38;5;124m'\u001b[39m\u001b[38;5;124mstarttijd\u001b[39m\u001b[38;5;124m'\u001b[39m] \u001b[38;5;241m=\u001b[39m pd\u001b[38;5;241m.\u001b[39mto_datetime(df_planning[\u001b[38;5;124m'\u001b[39m\u001b[38;5;124mstarttijd\u001b[39m\u001b[38;5;124m'\u001b[39m])\n\u001b[0;32m      2\u001b[0m df_planning[\u001b[38;5;124m'\u001b[39m\u001b[38;5;124meindtijd\u001b[39m\u001b[38;5;124m'\u001b[39m] \u001b[38;5;241m=\u001b[39m pd\u001b[38;5;241m.\u001b[39mto_datetime(df_planning[\u001b[38;5;124m'\u001b[39m\u001b[38;5;124meindtijd\u001b[39m\u001b[38;5;124m'\u001b[39m])\n\u001b[0;32m      4\u001b[0m \u001b[38;5;66;03m# Controleren op het verschil tussen de eindtijd van de ene regel en de starttijd van de volgende regel\u001b[39;00m\n",
      "\u001b[1;31mNameError\u001b[0m: name 'pd' is not defined"
     ]
    }
   ],
   "source": [
    "df_planning['starttijd'] = pd.to_datetime(df_planning['starttijd'])\n",
    "df_planning['eindtijd'] = pd.to_datetime(df_planning['eindtijd'])\n",
    "\n",
    "# Controleren op het verschil tussen de eindtijd van de ene regel en de starttijd van de volgende regel\n",
    "df_planning['verschil'] = df_planning['starttijd'].shift(-1) - df_planning['eindtijd']\n",
    "\n",
    "# Filteren van regels waar het verschil groter is dan 30 minuten en niet gelijk aan 0 minuten\n",
    "df_planning['verschil_groter_dan_30_minuten'] = (df_planning['verschil'] > pd.Timedelta(minutes=30)) & (df_planning['verschil'] != pd.Timedelta(minutes=0))\n",
    "\n",
    "# Output DataFrame met het verschil in tijd en de kolom die aangeeft of het verschil groter is dan 30 minuten\n",
    "df_planning"
   ]
  },
  {
   "cell_type": "code",
   "execution_count": null,
   "metadata": {},
   "outputs": [],
   "source": []
  }
 ],
 "metadata": {
  "kernelspec": {
   "display_name": "base",
   "language": "python",
   "name": "python3"
  },
  "language_info": {
   "codemirror_mode": {
    "name": "ipython",
    "version": 3
   },
   "file_extension": ".py",
   "mimetype": "text/x-python",
   "name": "python",
   "nbconvert_exporter": "python",
   "pygments_lexer": "ipython3",
   "version": "3.11.4"
  }
 },
 "nbformat": 4,
 "nbformat_minor": 2
}
